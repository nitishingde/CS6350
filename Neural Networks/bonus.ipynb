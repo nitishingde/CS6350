{
 "cells": [
  {
   "cell_type": "code",
   "execution_count": 1,
   "metadata": {
    "collapsed": true
   },
   "outputs": [
    {
     "name": "stderr",
     "output_type": "stream",
     "text": [
      "2022-12-09 11:25:08.818029: I tensorflow/core/platform/cpu_feature_guard.cc:193] This TensorFlow binary is optimized with oneAPI Deep Neural Network Library (oneDNN) to use the following CPU instructions in performance-critical operations:  AVX2 FMA\n",
      "To enable them in other operations, rebuild TensorFlow with the appropriate compiler flags.\n",
      "2022-12-09 11:25:08.943102: W tensorflow/compiler/xla/stream_executor/platform/default/dso_loader.cc:64] Could not load dynamic library 'libcudart.so.11.0'; dlerror: libcudart.so.11.0: cannot open shared object file: No such file or directory\n",
      "2022-12-09 11:25:08.943117: I tensorflow/compiler/xla/stream_executor/cuda/cudart_stub.cc:29] Ignore above cudart dlerror if you do not have a GPU set up on your machine.\n",
      "2022-12-09 11:25:09.768975: W tensorflow/compiler/xla/stream_executor/platform/default/dso_loader.cc:64] Could not load dynamic library 'libnvinfer.so.7'; dlerror: libnvinfer.so.7: cannot open shared object file: No such file or directory\n",
      "2022-12-09 11:25:09.769075: W tensorflow/compiler/xla/stream_executor/platform/default/dso_loader.cc:64] Could not load dynamic library 'libnvinfer_plugin.so.7'; dlerror: libnvinfer_plugin.so.7: cannot open shared object file: No such file or directory\n",
      "2022-12-09 11:25:09.769087: W tensorflow/compiler/tf2tensorrt/utils/py_utils.cc:38] TF-TRT Warning: Cannot dlopen some TensorRT libraries. If you would like to use Nvidia GPU with TensorRT, please make sure the missing libraries mentioned above are installed properly.\n"
     ]
    }
   ],
   "source": [
    "import pandas as pd\n",
    "from keras.models import Sequential\n",
    "from keras.layers import Dense\n",
    "import keras"
   ]
  },
  {
   "cell_type": "code",
   "execution_count": 2,
   "outputs": [
    {
     "data": {
      "text/plain": "     variance  skewness  curtosis  entropy  label\n0    3.848100  10.15390  -3.85610 -4.22280      0\n1    4.004700   0.45937   1.36210  1.61810      0\n2   -0.048008  -1.60370   8.47560  0.75558      0\n3   -1.266700   2.81830  -2.42600 -1.88620      1\n4    2.203400   5.99470   0.53009  0.84998      0\n..        ...       ...       ...      ...    ...\n867  0.273310   4.87730  -4.91940 -5.81980      1\n868  1.063700   3.69570  -4.15940 -1.93790      1\n869 -1.242400  -1.71750  -0.52553 -0.21036      1\n870  1.837300   6.12920   0.84027  0.55257      0\n871 -2.014900   3.68740  -1.93850 -3.89180      1\n\n[872 rows x 5 columns]",
      "text/html": "<div>\n<style scoped>\n    .dataframe tbody tr th:only-of-type {\n        vertical-align: middle;\n    }\n\n    .dataframe tbody tr th {\n        vertical-align: top;\n    }\n\n    .dataframe thead th {\n        text-align: right;\n    }\n</style>\n<table border=\"1\" class=\"dataframe\">\n  <thead>\n    <tr style=\"text-align: right;\">\n      <th></th>\n      <th>variance</th>\n      <th>skewness</th>\n      <th>curtosis</th>\n      <th>entropy</th>\n      <th>label</th>\n    </tr>\n  </thead>\n  <tbody>\n    <tr>\n      <th>0</th>\n      <td>3.848100</td>\n      <td>10.15390</td>\n      <td>-3.85610</td>\n      <td>-4.22280</td>\n      <td>0</td>\n    </tr>\n    <tr>\n      <th>1</th>\n      <td>4.004700</td>\n      <td>0.45937</td>\n      <td>1.36210</td>\n      <td>1.61810</td>\n      <td>0</td>\n    </tr>\n    <tr>\n      <th>2</th>\n      <td>-0.048008</td>\n      <td>-1.60370</td>\n      <td>8.47560</td>\n      <td>0.75558</td>\n      <td>0</td>\n    </tr>\n    <tr>\n      <th>3</th>\n      <td>-1.266700</td>\n      <td>2.81830</td>\n      <td>-2.42600</td>\n      <td>-1.88620</td>\n      <td>1</td>\n    </tr>\n    <tr>\n      <th>4</th>\n      <td>2.203400</td>\n      <td>5.99470</td>\n      <td>0.53009</td>\n      <td>0.84998</td>\n      <td>0</td>\n    </tr>\n    <tr>\n      <th>...</th>\n      <td>...</td>\n      <td>...</td>\n      <td>...</td>\n      <td>...</td>\n      <td>...</td>\n    </tr>\n    <tr>\n      <th>867</th>\n      <td>0.273310</td>\n      <td>4.87730</td>\n      <td>-4.91940</td>\n      <td>-5.81980</td>\n      <td>1</td>\n    </tr>\n    <tr>\n      <th>868</th>\n      <td>1.063700</td>\n      <td>3.69570</td>\n      <td>-4.15940</td>\n      <td>-1.93790</td>\n      <td>1</td>\n    </tr>\n    <tr>\n      <th>869</th>\n      <td>-1.242400</td>\n      <td>-1.71750</td>\n      <td>-0.52553</td>\n      <td>-0.21036</td>\n      <td>1</td>\n    </tr>\n    <tr>\n      <th>870</th>\n      <td>1.837300</td>\n      <td>6.12920</td>\n      <td>0.84027</td>\n      <td>0.55257</td>\n      <td>0</td>\n    </tr>\n    <tr>\n      <th>871</th>\n      <td>-2.014900</td>\n      <td>3.68740</td>\n      <td>-1.93850</td>\n      <td>-3.89180</td>\n      <td>1</td>\n    </tr>\n  </tbody>\n</table>\n<p>872 rows × 5 columns</p>\n</div>"
     },
     "execution_count": 2,
     "metadata": {},
     "output_type": "execute_result"
    }
   ],
   "source": [
    "df_train = pd.read_csv('./data/bank-note/train.csv', names=['variance', 'skewness', 'curtosis', 'entropy', 'label'])\n",
    "x_train, y_train = df_train.iloc[:, :4], df_train.iloc[:, 4:]\n",
    "df_train"
   ],
   "metadata": {
    "collapsed": false
   }
  },
  {
   "cell_type": "code",
   "execution_count": 3,
   "outputs": [
    {
     "data": {
      "text/plain": "     variance  skewness  curtosis   entropy  label\n0     3.83840   6.18510  -2.04390 -0.033204      0\n1     2.85210   9.17100  -3.64610 -1.204700      0\n2     5.24180  10.53880  -4.11740 -4.279700      0\n3    -2.26230  12.11770   0.28846 -7.758100      0\n4     0.55298  -3.46190   1.70480  1.100800      1\n..        ...       ...       ...       ...    ...\n495   2.10800   6.79550  -0.17080  0.490500      0\n496   2.50680   1.15880   3.92490  0.125850      0\n497   3.32990   0.91254   1.58060  0.393520      0\n498   0.91315   3.33770  -4.05570 -1.674100      1\n499   1.02840   9.76700  -1.36870 -1.785300      0\n\n[500 rows x 5 columns]",
      "text/html": "<div>\n<style scoped>\n    .dataframe tbody tr th:only-of-type {\n        vertical-align: middle;\n    }\n\n    .dataframe tbody tr th {\n        vertical-align: top;\n    }\n\n    .dataframe thead th {\n        text-align: right;\n    }\n</style>\n<table border=\"1\" class=\"dataframe\">\n  <thead>\n    <tr style=\"text-align: right;\">\n      <th></th>\n      <th>variance</th>\n      <th>skewness</th>\n      <th>curtosis</th>\n      <th>entropy</th>\n      <th>label</th>\n    </tr>\n  </thead>\n  <tbody>\n    <tr>\n      <th>0</th>\n      <td>3.83840</td>\n      <td>6.18510</td>\n      <td>-2.04390</td>\n      <td>-0.033204</td>\n      <td>0</td>\n    </tr>\n    <tr>\n      <th>1</th>\n      <td>2.85210</td>\n      <td>9.17100</td>\n      <td>-3.64610</td>\n      <td>-1.204700</td>\n      <td>0</td>\n    </tr>\n    <tr>\n      <th>2</th>\n      <td>5.24180</td>\n      <td>10.53880</td>\n      <td>-4.11740</td>\n      <td>-4.279700</td>\n      <td>0</td>\n    </tr>\n    <tr>\n      <th>3</th>\n      <td>-2.26230</td>\n      <td>12.11770</td>\n      <td>0.28846</td>\n      <td>-7.758100</td>\n      <td>0</td>\n    </tr>\n    <tr>\n      <th>4</th>\n      <td>0.55298</td>\n      <td>-3.46190</td>\n      <td>1.70480</td>\n      <td>1.100800</td>\n      <td>1</td>\n    </tr>\n    <tr>\n      <th>...</th>\n      <td>...</td>\n      <td>...</td>\n      <td>...</td>\n      <td>...</td>\n      <td>...</td>\n    </tr>\n    <tr>\n      <th>495</th>\n      <td>2.10800</td>\n      <td>6.79550</td>\n      <td>-0.17080</td>\n      <td>0.490500</td>\n      <td>0</td>\n    </tr>\n    <tr>\n      <th>496</th>\n      <td>2.50680</td>\n      <td>1.15880</td>\n      <td>3.92490</td>\n      <td>0.125850</td>\n      <td>0</td>\n    </tr>\n    <tr>\n      <th>497</th>\n      <td>3.32990</td>\n      <td>0.91254</td>\n      <td>1.58060</td>\n      <td>0.393520</td>\n      <td>0</td>\n    </tr>\n    <tr>\n      <th>498</th>\n      <td>0.91315</td>\n      <td>3.33770</td>\n      <td>-4.05570</td>\n      <td>-1.674100</td>\n      <td>1</td>\n    </tr>\n    <tr>\n      <th>499</th>\n      <td>1.02840</td>\n      <td>9.76700</td>\n      <td>-1.36870</td>\n      <td>-1.785300</td>\n      <td>0</td>\n    </tr>\n  </tbody>\n</table>\n<p>500 rows × 5 columns</p>\n</div>"
     },
     "execution_count": 3,
     "metadata": {},
     "output_type": "execute_result"
    }
   ],
   "source": [
    "df_test = pd.read_csv('./data/bank-note/test.csv', names=['variance', 'skewness', 'curtosis', 'entropy', 'label'])\n",
    "x_test, y_test = df_test.iloc[:, :4], df_test.iloc[:, 4:]\n",
    "df_test"
   ],
   "metadata": {
    "collapsed": false
   }
  },
  {
   "cell_type": "code",
   "execution_count": 27,
   "outputs": [
    {
     "name": "stdout",
     "output_type": "stream",
     "text": [
      "depth width acc\n",
      "    3     5 1.0\n",
      "    3    10 1.0\n",
      "    3    25 1.0\n",
      "    3    50 1.0\n",
      "    3   100 1.0\n",
      "    5     5 1.0\n",
      "    5    10 0.9980000257492065\n",
      "    5    25 1.0\n",
      "    5    50 1.0\n",
      "    5   100 1.0\n",
      "    9     5 0.9980000257492065\n",
      "    9    10 0.9980000257492065\n",
      "    9    25 0.9980000257492065\n",
      "    9    50 1.0\n",
      "    9   100 0.9879999756813049\n"
     ]
    }
   ],
   "source": [
    "print('depth width acc')\n",
    "for depth in [3, 5, 9]:\n",
    "    for width in [5, 10, 25, 50, 100]:\n",
    "        model = Sequential()\n",
    "        model.add(Dense(width, activation=keras.activations.tanh, kernel_initializer=keras.initializers.glorot_normal(), input_shape=(4,)))\n",
    "        for i in range(1, depth-1):\n",
    "            model.add(Dense(width, activation=keras.activations.tanh, kernel_initializer=keras.initializers.glorot_normal()))\n",
    "        model.add(Dense(1, activation='sigmoid'))\n",
    "        model.compile(loss=keras.losses.BinaryCrossentropy(), optimizer=keras.optimizers.Adam(learning_rate=1e-3), metrics=['accuracy'])\n",
    "        model.fit(x_train, y_train, epochs=8, batch_size=1, verbose=False)\n",
    "        _, acc = model.evaluate(x_test, y_test, verbose=False)\n",
    "        print(f'{depth:5} {width:5} {acc}')"
   ],
   "metadata": {
    "collapsed": false
   }
  },
  {
   "cell_type": "code",
   "execution_count": 28,
   "outputs": [
    {
     "name": "stdout",
     "output_type": "stream",
     "text": [
      "depth width acc\n",
      "    3     5 0.9980000257492065\n",
      "    3    10 1.0\n",
      "    3    25 1.0\n",
      "    3    50 1.0\n",
      "    3   100 1.0\n",
      "    5     5 0.9980000257492065\n",
      "    5    10 1.0\n",
      "    5    25 1.0\n",
      "    5    50 1.0\n",
      "    5   100 1.0\n",
      "    9     5 0.9959999918937683\n",
      "    9    10 1.0\n",
      "    9    25 1.0\n",
      "    9    50 1.0\n",
      "    9   100 1.0\n"
     ]
    }
   ],
   "source": [
    "print('depth width acc')\n",
    "for depth in [3, 5, 9]:\n",
    "    for width in [5, 10, 25, 50, 100]:\n",
    "        model = Sequential()\n",
    "        model.add(Dense(width, activation=keras.activations.relu, kernel_initializer=keras.initializers.he_normal(), input_shape=(4,)))\n",
    "        for i in range(1, depth-1):\n",
    "            model.add(Dense(width, activation=keras.activations.relu, kernel_initializer=keras.initializers.he_normal()))\n",
    "        model.add(Dense(1, activation='sigmoid'))\n",
    "        model.compile(loss=keras.losses.BinaryCrossentropy(), optimizer=keras.optimizers.Adam(learning_rate=1e-3), metrics=['accuracy'])\n",
    "        model.fit(x_train, y_train, epochs=8, batch_size=1, verbose=False)\n",
    "        _, acc = model.evaluate(x_test, y_test, verbose=False)\n",
    "        print(f'{depth:5} {width:5} {acc}')"
   ],
   "metadata": {
    "collapsed": false
   }
  },
  {
   "cell_type": "code",
   "execution_count": 24,
   "outputs": [],
   "source": [],
   "metadata": {
    "collapsed": false
   }
  }
 ],
 "metadata": {
  "kernelspec": {
   "display_name": "Python 3",
   "language": "python",
   "name": "python3"
  },
  "language_info": {
   "codemirror_mode": {
    "name": "ipython",
    "version": 2
   },
   "file_extension": ".py",
   "mimetype": "text/x-python",
   "name": "python",
   "nbconvert_exporter": "python",
   "pygments_lexer": "ipython2",
   "version": "2.7.6"
  }
 },
 "nbformat": 4,
 "nbformat_minor": 0
}
