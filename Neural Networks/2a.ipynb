{
 "cells": [
  {
   "cell_type": "code",
   "execution_count": 1,
   "metadata": {
    "collapsed": true
   },
   "outputs": [],
   "source": [
    "import pandas as pd\n",
    "import numpy as np"
   ]
  },
  {
   "cell_type": "code",
   "execution_count": 2,
   "outputs": [],
   "source": [
    "sigmoid = lambda z: 1./(1+np.exp(-z))"
   ],
   "metadata": {
    "collapsed": false
   }
  },
  {
   "cell_type": "code",
   "execution_count": 3,
   "outputs": [],
   "source": [
    "# x_train (1, 2)\n",
    "x_train = np.ones((1, 2))\n",
    "y_train = np.ones((1, 1))\n",
    "\n",
    "w1 = np.array([[-2, -3], [2, 3]])  # (2, 2)\n",
    "w2 = np.array([[-2, -3], [2, 3]])  # (2, 2)\n",
    "w3 = np.array([2, -1.5])  # (1, 2)\n",
    "\n",
    "b1 = np.array([-1, 1])  # (1, 2)\n",
    "b2 = np.array([-1, 1])  # (1, 2)\n",
    "b3 = np.array([-1])     # (1, 1)"
   ],
   "metadata": {
    "collapsed": false
   }
  },
  {
   "cell_type": "code",
   "execution_count": 4,
   "outputs": [],
   "source": [
    "z1 = np.dot(x_train, w1.transpose()) + b1\n",
    "a1 = sigmoid(z1)\n",
    "z2 = np.dot(a1, w2.transpose()) + b2\n",
    "a2 = sigmoid(z2)\n",
    "y = np.dot(a2, w3.transpose()) + b3\n",
    "L = 0.5*np.square((y-y_train))"
   ],
   "metadata": {
    "collapsed": false
   }
  },
  {
   "cell_type": "code",
   "execution_count": 5,
   "outputs": [
    {
     "name": "stdout",
     "output_type": "stream",
     "text": [
      "a1 = [[0.00247262 0.99752738]]\n",
      "a2 = [[0.01802994 0.98197006]]\n",
      "y  = [-2.43689523]\n"
     ]
    }
   ],
   "source": [
    "print(f'a1 = {a1}\\na2 = {a2}\\ny  = {y}')"
   ],
   "metadata": {
    "collapsed": false
   }
  },
  {
   "cell_type": "code",
   "execution_count": 6,
   "outputs": [],
   "source": [
    "dldy  = y - y_train\n",
    "dldb3 = float(dldy.sum())\n",
    "dldw3 = np.dot(dldy.transpose(), a2)\n",
    "\n",
    "dldz2 = dldy*w3.transpose() * a2 * (1 - a2)\n",
    "dldb2 = dldz2.sum(axis=0)\n",
    "dldw2 = np.dot(dldz2.transpose(), a1)\n",
    "\n",
    "dldz1 = np.dot(dldz2, w2) * a1 * (1 - a1)\n",
    "dldb1 = dldz1.sum(axis=0)\n",
    "dldw1 = np.dot(dldz1.transpose(), x_train)"
   ],
   "metadata": {
    "collapsed": false
   }
  },
  {
   "cell_type": "code",
   "execution_count": 7,
   "outputs": [
    {
     "name": "stdout",
     "output_type": "stream",
     "text": [
      "dl/db3 =\n",
      "-3.436895226556018\n",
      "\n",
      "dl/dw3 =\n",
      "[[-0.061967   -3.37492823]]\n",
      "dl/db2 =\n",
      "[-0.12169947  0.09127461]\n",
      "\n",
      "dl/dw2 =\n",
      "[[-0.00030092 -0.12139856]\n",
      " [ 0.00022569  0.09104892]]\n",
      "dl/db1 =\n",
      "[0.00105061 0.00157591]\n",
      "\n",
      "dl/dw1 =\n",
      "[[0.00105061 0.00105061]\n",
      " [0.00157591 0.00157591]]\n"
     ]
    }
   ],
   "source": [
    "print(f'dl/db3 =\\n{dldb3}\\n\\ndl/dw3 =\\n{dldw3}')\n",
    "print(f'dl/db2 =\\n{dldb2}\\n\\ndl/dw2 =\\n{dldw2}')\n",
    "print(f'dl/db1 =\\n{dldb1}\\n\\ndl/dw1 =\\n{dldw1}')"
   ],
   "metadata": {
    "collapsed": false
   }
  },
  {
   "cell_type": "code",
   "execution_count": 8,
   "outputs": [],
   "source": [
    "r = 0.001\n",
    "b3 = b3 - r*dldb3\n",
    "w3 = w3 - r*dldw3\n",
    "b2 = b2 - r*dldb2\n",
    "w2 = w2 - r*dldw2\n",
    "b1 = b1 - r*dldb1\n",
    "w1 = w1 - r*dldw1"
   ],
   "metadata": {
    "collapsed": false
   }
  },
  {
   "cell_type": "code",
   "execution_count": 8,
   "outputs": [],
   "source": [],
   "metadata": {
    "collapsed": false
   }
  }
 ],
 "metadata": {
  "kernelspec": {
   "display_name": "Python 3",
   "language": "python",
   "name": "python3"
  },
  "language_info": {
   "codemirror_mode": {
    "name": "ipython",
    "version": 2
   },
   "file_extension": ".py",
   "mimetype": "text/x-python",
   "name": "python",
   "nbconvert_exporter": "python",
   "pygments_lexer": "ipython2",
   "version": "2.7.6"
  }
 },
 "nbformat": 4,
 "nbformat_minor": 0
}
