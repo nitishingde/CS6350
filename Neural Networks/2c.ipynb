{
 "cells": [
  {
   "cell_type": "code",
   "execution_count": 1,
   "metadata": {
    "collapsed": true
   },
   "outputs": [],
   "source": [
    "import pandas as pd\n",
    "import numpy as np\n",
    "from ml.NeuralNetwork import NN2Classifier"
   ]
  },
  {
   "cell_type": "code",
   "execution_count": 2,
   "outputs": [
    {
     "name": "stdout",
     "output_type": "stream",
     "text": [
      "(872, 4) (872,)\n"
     ]
    }
   ],
   "source": [
    "df_train = pd.read_csv('./data/bank-note/train.csv', names=['variance', 'skewness', 'curtosis', 'entropy', 'label'])\n",
    "x_train, y_train = df_train.iloc[:, :4], df_train.iloc[:, 4]\n",
    "# x_train.describe()\n",
    "# y_train.describe()\n",
    "print(x_train.shape, y_train.shape)"
   ],
   "metadata": {
    "collapsed": false
   }
  },
  {
   "cell_type": "code",
   "execution_count": 3,
   "outputs": [
    {
     "name": "stdout",
     "output_type": "stream",
     "text": [
      "(500, 4) (500,)\n"
     ]
    }
   ],
   "source": [
    "df_test = pd.read_csv('./data/bank-note/test.csv', names=['variance', 'skewness', 'curtosis', 'entropy', 'label'])\n",
    "x_test, y_test = df_test.iloc[:, :4], df_test.iloc[:, 4]\n",
    "# x_train.describe()\n",
    "# y_train.describe()\n",
    "print(x_test.shape, y_test.shape)"
   ],
   "metadata": {
    "collapsed": false
   }
  },
  {
   "cell_type": "code",
   "execution_count": 4,
   "outputs": [
    {
     "name": "stdout",
     "output_type": "stream",
     "text": [
      "width accuracy(train) accuracy(test)\n",
      "    5         0.5539         0.5580\n",
      "   10         0.5539         0.5580\n",
      "   25         0.5539         0.5580\n",
      "   50         0.5539         0.5580\n",
      "  100         0.5539         0.5580\n"
     ]
    }
   ],
   "source": [
    "print('width accuracy(train) accuracy(test)')\n",
    "for width in [5, 10, 25, 50, 100]:\n",
    "    model = NN2Classifier()\n",
    "    model.fit(df_train, width=width, y0=0.001, d=4, epochs=100, initializer=np.zeros)\n",
    "    pred_train = model.predict_batch(x_train)\n",
    "    acc_train = sum(y_train == pred_train)/len(pred_train)\n",
    "    pred_test = model.predict_batch(x_test)\n",
    "    acc_test = sum(y_test == pred_test)/len(pred_test)\n",
    "    print(f'{width:5} {acc_train:14.4f} {acc_test:14.4f}')"
   ],
   "metadata": {
    "collapsed": false
   }
  }
 ],
 "metadata": {
  "kernelspec": {
   "display_name": "Python 3",
   "language": "python",
   "name": "python3"
  },
  "language_info": {
   "codemirror_mode": {
    "name": "ipython",
    "version": 2
   },
   "file_extension": ".py",
   "mimetype": "text/x-python",
   "name": "python",
   "nbconvert_exporter": "python",
   "pygments_lexer": "ipython2",
   "version": "2.7.6"
  }
 },
 "nbformat": 4,
 "nbformat_minor": 0
}
