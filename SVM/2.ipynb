{
 "cells": [
  {
   "cell_type": "code",
   "execution_count": 1,
   "metadata": {
    "collapsed": true
   },
   "outputs": [],
   "source": [
    "import pandas as pd\n",
    "import numpy as np\n",
    "from ml.SVM import SVMClassifier"
   ]
  },
  {
   "cell_type": "code",
   "execution_count": 2,
   "outputs": [
    {
     "data": {
      "text/plain": "   variance  skewness  curtosis  entropy  label\n0  3.848100  10.15390  -3.85610 -4.22280     -1\n1  4.004700   0.45937   1.36210  1.61810     -1\n2 -0.048008  -1.60370   8.47560  0.75558     -1\n3 -1.266700   2.81830  -2.42600 -1.88620      1\n4  2.203400   5.99470   0.53009  0.84998     -1",
      "text/html": "<div>\n<style scoped>\n    .dataframe tbody tr th:only-of-type {\n        vertical-align: middle;\n    }\n\n    .dataframe tbody tr th {\n        vertical-align: top;\n    }\n\n    .dataframe thead th {\n        text-align: right;\n    }\n</style>\n<table border=\"1\" class=\"dataframe\">\n  <thead>\n    <tr style=\"text-align: right;\">\n      <th></th>\n      <th>variance</th>\n      <th>skewness</th>\n      <th>curtosis</th>\n      <th>entropy</th>\n      <th>label</th>\n    </tr>\n  </thead>\n  <tbody>\n    <tr>\n      <th>0</th>\n      <td>3.848100</td>\n      <td>10.15390</td>\n      <td>-3.85610</td>\n      <td>-4.22280</td>\n      <td>-1</td>\n    </tr>\n    <tr>\n      <th>1</th>\n      <td>4.004700</td>\n      <td>0.45937</td>\n      <td>1.36210</td>\n      <td>1.61810</td>\n      <td>-1</td>\n    </tr>\n    <tr>\n      <th>2</th>\n      <td>-0.048008</td>\n      <td>-1.60370</td>\n      <td>8.47560</td>\n      <td>0.75558</td>\n      <td>-1</td>\n    </tr>\n    <tr>\n      <th>3</th>\n      <td>-1.266700</td>\n      <td>2.81830</td>\n      <td>-2.42600</td>\n      <td>-1.88620</td>\n      <td>1</td>\n    </tr>\n    <tr>\n      <th>4</th>\n      <td>2.203400</td>\n      <td>5.99470</td>\n      <td>0.53009</td>\n      <td>0.84998</td>\n      <td>-1</td>\n    </tr>\n  </tbody>\n</table>\n</div>"
     },
     "execution_count": 2,
     "metadata": {},
     "output_type": "execute_result"
    }
   ],
   "source": [
    "df_train = pd.read_csv('./data/bank-note/train.csv', names=['variance', 'skewness', 'curtosis', 'entropy', 'label'])\n",
    "df_train['label'].replace(to_replace=0, value=-1, inplace=True)\n",
    "# df_train.loc[df_train['label'] == 0, 'label'] = -1\n",
    "df_train.head()"
   ],
   "metadata": {
    "collapsed": false
   }
  },
  {
   "cell_type": "code",
   "execution_count": 3,
   "outputs": [
    {
     "data": {
      "text/plain": "   variance  skewness  curtosis   entropy  label\n0   3.83840    6.1851  -2.04390 -0.033204     -1\n1   2.85210    9.1710  -3.64610 -1.204700     -1\n2   5.24180   10.5388  -4.11740 -4.279700     -1\n3  -2.26230   12.1177   0.28846 -7.758100     -1\n4   0.55298   -3.4619   1.70480  1.100800      1",
      "text/html": "<div>\n<style scoped>\n    .dataframe tbody tr th:only-of-type {\n        vertical-align: middle;\n    }\n\n    .dataframe tbody tr th {\n        vertical-align: top;\n    }\n\n    .dataframe thead th {\n        text-align: right;\n    }\n</style>\n<table border=\"1\" class=\"dataframe\">\n  <thead>\n    <tr style=\"text-align: right;\">\n      <th></th>\n      <th>variance</th>\n      <th>skewness</th>\n      <th>curtosis</th>\n      <th>entropy</th>\n      <th>label</th>\n    </tr>\n  </thead>\n  <tbody>\n    <tr>\n      <th>0</th>\n      <td>3.83840</td>\n      <td>6.1851</td>\n      <td>-2.04390</td>\n      <td>-0.033204</td>\n      <td>-1</td>\n    </tr>\n    <tr>\n      <th>1</th>\n      <td>2.85210</td>\n      <td>9.1710</td>\n      <td>-3.64610</td>\n      <td>-1.204700</td>\n      <td>-1</td>\n    </tr>\n    <tr>\n      <th>2</th>\n      <td>5.24180</td>\n      <td>10.5388</td>\n      <td>-4.11740</td>\n      <td>-4.279700</td>\n      <td>-1</td>\n    </tr>\n    <tr>\n      <th>3</th>\n      <td>-2.26230</td>\n      <td>12.1177</td>\n      <td>0.28846</td>\n      <td>-7.758100</td>\n      <td>-1</td>\n    </tr>\n    <tr>\n      <th>4</th>\n      <td>0.55298</td>\n      <td>-3.4619</td>\n      <td>1.70480</td>\n      <td>1.100800</td>\n      <td>1</td>\n    </tr>\n  </tbody>\n</table>\n</div>"
     },
     "execution_count": 3,
     "metadata": {},
     "output_type": "execute_result"
    }
   ],
   "source": [
    "df_test = pd.read_csv('./data/bank-note/test.csv', names=['variance', 'skewness', 'curtosis', 'entropy', 'label'])\n",
    "df_test['label'].replace(to_replace=0, value=-1, inplace=True)\n",
    "# df_test.loc[df_test['label'] == 0, 'label'] = -1\n",
    "df_test.head()"
   ],
   "metadata": {
    "collapsed": false
   }
  },
  {
   "cell_type": "code",
   "execution_count": 4,
   "outputs": [],
   "source": [
    "ynot, a = 0.001, 8"
   ],
   "metadata": {
    "collapsed": false
   }
  },
  {
   "cell_type": "code",
   "execution_count": 5,
   "outputs": [
    {
     "name": "stdout",
     "output_type": "stream",
     "text": [
      "100.00%\n",
      "Standard: training error: 3.67%\n",
      "Standard: testing error : 3.80%\n"
     ]
    }
   ],
   "source": [
    "schedular = lambda t: ynot/(1 + ynot*t/a)\n",
    "model = SVMClassifier()\n",
    "model.fit(df_train, epochs=100, C=100./873., scheduler=schedular)\n",
    "print()\n",
    "print(f\"Standard: training error: {100.*sum(model.predict_batch(df_train.iloc[:, :-1]) != df_train['label'])/len(df_train):.2f}%\")\n",
    "print(f\"Standard: testing error : {100.*sum(model.predict_batch(df_test.iloc[:, :-1]) != df_test['label'])/len(df_test):.2f}%\")"
   ],
   "metadata": {
    "collapsed": false
   }
  },
  {
   "cell_type": "code",
   "execution_count": 6,
   "outputs": [
    {
     "name": "stdout",
     "output_type": "stream",
     "text": [
      "100.00%\n",
      "Standard: training error: 3.10%\n",
      "Standard: testing error : 3.80%\n"
     ]
    }
   ],
   "source": [
    "schedular = lambda t: ynot/(1 + ynot*t/a)\n",
    "model = SVMClassifier()\n",
    "model.fit(df_train, epochs=100, C=500./873., scheduler=schedular)\n",
    "print()\n",
    "print(f\"Standard: training error: {100.*sum(model.predict_batch(df_train.iloc[:, :-1]) != df_train['label'])/len(df_train):.2f}%\")\n",
    "print(f\"Standard: testing error : {100.*sum(model.predict_batch(df_test.iloc[:, :-1]) != df_test['label'])/len(df_test):.2f}%\")"
   ],
   "metadata": {
    "collapsed": false
   }
  },
  {
   "cell_type": "code",
   "execution_count": 7,
   "outputs": [
    {
     "name": "stdout",
     "output_type": "stream",
     "text": [
      "100.00%\n",
      "Standard: training error: 4.01%\n",
      "Standard: testing error : 5.20%\n"
     ]
    }
   ],
   "source": [
    "schedular = lambda t: ynot/(1 + ynot*t/a)\n",
    "model = SVMClassifier()\n",
    "model.fit(df_train, epochs=100, C=700./873., scheduler=schedular)\n",
    "print()\n",
    "print(f\"Standard: training error: {100.*sum(model.predict_batch(df_train.iloc[:, :-1]) != df_train['label'])/len(df_train):.2f}%\")\n",
    "print(f\"Standard: testing error : {100.*sum(model.predict_batch(df_test.iloc[:, :-1]) != df_test['label'])/len(df_test):.2f}%\")"
   ],
   "metadata": {
    "collapsed": false
   }
  },
  {
   "cell_type": "code",
   "execution_count": 8,
   "outputs": [
    {
     "name": "stdout",
     "output_type": "stream",
     "text": [
      "100.00%\n",
      "Standard: training error: 0.69%\n",
      "Standard: testing error : 1.00%\n"
     ]
    }
   ],
   "source": [
    "schedular = lambda t: ynot/(1 + t)\n",
    "model = SVMClassifier()\n",
    "model.fit(df_train, epochs=100, C=100./873., scheduler=schedular)\n",
    "print()\n",
    "print(f\"Standard: training error: {100.*sum(model.predict_batch(df_train.iloc[:, :-1]) != df_train['label'])/len(df_train):.2f}%\")\n",
    "print(f\"Standard: testing error : {100.*sum(model.predict_batch(df_test.iloc[:, :-1]) != df_test['label'])/len(df_test):.2f}%\")"
   ],
   "metadata": {
    "collapsed": false
   }
  },
  {
   "cell_type": "code",
   "execution_count": 9,
   "outputs": [
    {
     "name": "stdout",
     "output_type": "stream",
     "text": [
      "100.00%\n",
      "Standard: training error: 0.80%\n",
      "Standard: testing error : 1.20%\n"
     ]
    }
   ],
   "source": [
    "schedular = lambda t: ynot/(1 + t)\n",
    "model = SVMClassifier()\n",
    "model.fit(df_train, epochs=100, C=500./873., scheduler=schedular)\n",
    "print()\n",
    "print(f\"Standard: training error: {100.*sum(model.predict_batch(df_train.iloc[:, :-1]) != df_train['label'])/len(df_train):.2f}%\")\n",
    "print(f\"Standard: testing error : {100.*sum(model.predict_batch(df_test.iloc[:, :-1]) != df_test['label'])/len(df_test):.2f}%\")"
   ],
   "metadata": {
    "collapsed": false
   }
  },
  {
   "cell_type": "code",
   "execution_count": 10,
   "outputs": [
    {
     "name": "stdout",
     "output_type": "stream",
     "text": [
      "100.00%\n",
      "Standard: training error: 1.38%\n",
      "Standard: testing error : 1.60%\n"
     ]
    }
   ],
   "source": [
    "schedular = lambda t: ynot/(1 + t)\n",
    "model = SVMClassifier()\n",
    "model.fit(df_train, epochs=100, C=700./873., scheduler=schedular)\n",
    "print()\n",
    "print(f\"Standard: training error: {100.*sum(model.predict_batch(df_train.iloc[:, :-1]) != df_train['label'])/len(df_train):.2f}%\")\n",
    "print(f\"Standard: testing error : {100.*sum(model.predict_batch(df_test.iloc[:, :-1]) != df_test['label'])/len(df_test):.2f}%\")"
   ],
   "metadata": {
    "collapsed": false
   }
  },
  {
   "cell_type": "code",
   "execution_count": 10,
   "outputs": [],
   "source": [],
   "metadata": {
    "collapsed": false
   }
  }
 ],
 "metadata": {
  "kernelspec": {
   "display_name": "Python 3",
   "language": "python",
   "name": "python3"
  },
  "language_info": {
   "codemirror_mode": {
    "name": "ipython",
    "version": 2
   },
   "file_extension": ".py",
   "mimetype": "text/x-python",
   "name": "python",
   "nbconvert_exporter": "python",
   "pygments_lexer": "ipython2",
   "version": "2.7.6"
  }
 },
 "nbformat": 4,
 "nbformat_minor": 0
}
