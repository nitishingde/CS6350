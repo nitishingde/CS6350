{
 "cells": [
  {
   "cell_type": "code",
   "execution_count": 1,
   "metadata": {
    "collapsed": true
   },
   "outputs": [],
   "source": [
    "import numpy as np\n",
    "import pandas as pd\n",
    "import matplotlib.pyplot as plt\n",
    "from sklearn.svm import LinearSVC\n",
    "from sklearn.linear_model import LogisticRegression"
   ]
  },
  {
   "cell_type": "code",
   "execution_count": 2,
   "outputs": [
    {
     "data": {
      "text/plain": "   age         workclass  fnlwgt    education  education.num  \\\n0   53  Self-emp-not-inc   93449  Prof-school             15   \n1   33  Self-emp-not-inc  123424    Bachelors             13   \n2   47           Private  144844      HS-grad              9   \n3   40           Private  114580      HS-grad              9   \n4   39           Private  115618      HS-grad              9   \n\n       marital.status        occupation    relationship                race  \\\n0  Married-civ-spouse    Prof-specialty         Husband  Asian-Pac-Islander   \n1  Married-civ-spouse   Exec-managerial         Husband               White   \n2  Married-civ-spouse      Craft-repair         Husband               White   \n3            Divorced      Craft-repair  Other-relative               White   \n4  Married-civ-spouse  Transport-moving         Husband               White   \n\n      sex  capital.gain  capital.loss  hours.per.week native.country  \\\n0    Male             0             0              40          India   \n1    Male             0             0              40  United-States   \n2    Male             0             0              40  United-States   \n3  Female             0             0              40        Vietnam   \n4    Male             0             0              50  United-States   \n\n   income>50K  \n0           1  \n1           1  \n2           0  \n3           0  \n4           0  ",
      "text/html": "<div>\n<style scoped>\n    .dataframe tbody tr th:only-of-type {\n        vertical-align: middle;\n    }\n\n    .dataframe tbody tr th {\n        vertical-align: top;\n    }\n\n    .dataframe thead th {\n        text-align: right;\n    }\n</style>\n<table border=\"1\" class=\"dataframe\">\n  <thead>\n    <tr style=\"text-align: right;\">\n      <th></th>\n      <th>age</th>\n      <th>workclass</th>\n      <th>fnlwgt</th>\n      <th>education</th>\n      <th>education.num</th>\n      <th>marital.status</th>\n      <th>occupation</th>\n      <th>relationship</th>\n      <th>race</th>\n      <th>sex</th>\n      <th>capital.gain</th>\n      <th>capital.loss</th>\n      <th>hours.per.week</th>\n      <th>native.country</th>\n      <th>income&gt;50K</th>\n    </tr>\n  </thead>\n  <tbody>\n    <tr>\n      <th>0</th>\n      <td>53</td>\n      <td>Self-emp-not-inc</td>\n      <td>93449</td>\n      <td>Prof-school</td>\n      <td>15</td>\n      <td>Married-civ-spouse</td>\n      <td>Prof-specialty</td>\n      <td>Husband</td>\n      <td>Asian-Pac-Islander</td>\n      <td>Male</td>\n      <td>0</td>\n      <td>0</td>\n      <td>40</td>\n      <td>India</td>\n      <td>1</td>\n    </tr>\n    <tr>\n      <th>1</th>\n      <td>33</td>\n      <td>Self-emp-not-inc</td>\n      <td>123424</td>\n      <td>Bachelors</td>\n      <td>13</td>\n      <td>Married-civ-spouse</td>\n      <td>Exec-managerial</td>\n      <td>Husband</td>\n      <td>White</td>\n      <td>Male</td>\n      <td>0</td>\n      <td>0</td>\n      <td>40</td>\n      <td>United-States</td>\n      <td>1</td>\n    </tr>\n    <tr>\n      <th>2</th>\n      <td>47</td>\n      <td>Private</td>\n      <td>144844</td>\n      <td>HS-grad</td>\n      <td>9</td>\n      <td>Married-civ-spouse</td>\n      <td>Craft-repair</td>\n      <td>Husband</td>\n      <td>White</td>\n      <td>Male</td>\n      <td>0</td>\n      <td>0</td>\n      <td>40</td>\n      <td>United-States</td>\n      <td>0</td>\n    </tr>\n    <tr>\n      <th>3</th>\n      <td>40</td>\n      <td>Private</td>\n      <td>114580</td>\n      <td>HS-grad</td>\n      <td>9</td>\n      <td>Divorced</td>\n      <td>Craft-repair</td>\n      <td>Other-relative</td>\n      <td>White</td>\n      <td>Female</td>\n      <td>0</td>\n      <td>0</td>\n      <td>40</td>\n      <td>Vietnam</td>\n      <td>0</td>\n    </tr>\n    <tr>\n      <th>4</th>\n      <td>39</td>\n      <td>Private</td>\n      <td>115618</td>\n      <td>HS-grad</td>\n      <td>9</td>\n      <td>Married-civ-spouse</td>\n      <td>Transport-moving</td>\n      <td>Husband</td>\n      <td>White</td>\n      <td>Male</td>\n      <td>0</td>\n      <td>0</td>\n      <td>50</td>\n      <td>United-States</td>\n      <td>0</td>\n    </tr>\n  </tbody>\n</table>\n</div>"
     },
     "execution_count": 2,
     "metadata": {},
     "output_type": "execute_result"
    }
   ],
   "source": [
    "df_train = pd.read_csv('./data/train_final.csv')\n",
    "df_train.head()"
   ],
   "metadata": {
    "collapsed": false
   }
  },
  {
   "cell_type": "code",
   "execution_count": 3,
   "outputs": [
    {
     "data": {
      "text/plain": "   ID  age         workclass  fnlwgt     education  education.num  \\\n0   1   33  Self-emp-not-inc  222162       HS-grad              9   \n1   2   68                 ?   29240       HS-grad              9   \n2   3   34           Private  103596       HS-grad              9   \n3   4   57           Private  103403       5th-6th              3   \n4   5   48           Private  152915  Some-college             10   \n\n       marital.status         occupation   relationship   race     sex  \\\n0  Married-civ-spouse       Craft-repair        Husband  White    Male   \n1             Widowed                  ?  Not-in-family  White  Female   \n2  Married-civ-spouse  Handlers-cleaners        Husband  White    Male   \n3  Married-civ-spouse   Transport-moving        Husband  White    Male   \n4       Never-married       Adm-clerical  Not-in-family  White  Female   \n\n   capital.gain  capital.loss  hours.per.week native.country  \n0             0             0              40  United-States  \n1             0             0              12  United-States  \n2             0             0              40  United-States  \n3             0             0              40  United-States  \n4             0             0              40  United-States  ",
      "text/html": "<div>\n<style scoped>\n    .dataframe tbody tr th:only-of-type {\n        vertical-align: middle;\n    }\n\n    .dataframe tbody tr th {\n        vertical-align: top;\n    }\n\n    .dataframe thead th {\n        text-align: right;\n    }\n</style>\n<table border=\"1\" class=\"dataframe\">\n  <thead>\n    <tr style=\"text-align: right;\">\n      <th></th>\n      <th>ID</th>\n      <th>age</th>\n      <th>workclass</th>\n      <th>fnlwgt</th>\n      <th>education</th>\n      <th>education.num</th>\n      <th>marital.status</th>\n      <th>occupation</th>\n      <th>relationship</th>\n      <th>race</th>\n      <th>sex</th>\n      <th>capital.gain</th>\n      <th>capital.loss</th>\n      <th>hours.per.week</th>\n      <th>native.country</th>\n    </tr>\n  </thead>\n  <tbody>\n    <tr>\n      <th>0</th>\n      <td>1</td>\n      <td>33</td>\n      <td>Self-emp-not-inc</td>\n      <td>222162</td>\n      <td>HS-grad</td>\n      <td>9</td>\n      <td>Married-civ-spouse</td>\n      <td>Craft-repair</td>\n      <td>Husband</td>\n      <td>White</td>\n      <td>Male</td>\n      <td>0</td>\n      <td>0</td>\n      <td>40</td>\n      <td>United-States</td>\n    </tr>\n    <tr>\n      <th>1</th>\n      <td>2</td>\n      <td>68</td>\n      <td>?</td>\n      <td>29240</td>\n      <td>HS-grad</td>\n      <td>9</td>\n      <td>Widowed</td>\n      <td>?</td>\n      <td>Not-in-family</td>\n      <td>White</td>\n      <td>Female</td>\n      <td>0</td>\n      <td>0</td>\n      <td>12</td>\n      <td>United-States</td>\n    </tr>\n    <tr>\n      <th>2</th>\n      <td>3</td>\n      <td>34</td>\n      <td>Private</td>\n      <td>103596</td>\n      <td>HS-grad</td>\n      <td>9</td>\n      <td>Married-civ-spouse</td>\n      <td>Handlers-cleaners</td>\n      <td>Husband</td>\n      <td>White</td>\n      <td>Male</td>\n      <td>0</td>\n      <td>0</td>\n      <td>40</td>\n      <td>United-States</td>\n    </tr>\n    <tr>\n      <th>3</th>\n      <td>4</td>\n      <td>57</td>\n      <td>Private</td>\n      <td>103403</td>\n      <td>5th-6th</td>\n      <td>3</td>\n      <td>Married-civ-spouse</td>\n      <td>Transport-moving</td>\n      <td>Husband</td>\n      <td>White</td>\n      <td>Male</td>\n      <td>0</td>\n      <td>0</td>\n      <td>40</td>\n      <td>United-States</td>\n    </tr>\n    <tr>\n      <th>4</th>\n      <td>5</td>\n      <td>48</td>\n      <td>Private</td>\n      <td>152915</td>\n      <td>Some-college</td>\n      <td>10</td>\n      <td>Never-married</td>\n      <td>Adm-clerical</td>\n      <td>Not-in-family</td>\n      <td>White</td>\n      <td>Female</td>\n      <td>0</td>\n      <td>0</td>\n      <td>40</td>\n      <td>United-States</td>\n    </tr>\n  </tbody>\n</table>\n</div>"
     },
     "execution_count": 3,
     "metadata": {},
     "output_type": "execute_result"
    }
   ],
   "source": [
    "df_test = pd.read_csv('./data/test_final.csv')\n",
    "df_test.head()"
   ],
   "metadata": {
    "collapsed": false
   }
  },
  {
   "cell_type": "code",
   "execution_count": 4,
   "outputs": [],
   "source": [
    "def attr_contribution(df: pd.DataFrame, attr: str, label: str = 'income>50K'):\n",
    "    info = df.groupby([label, attr], sort=True).size().unstack(fill_value=0).stack()\n",
    "    attr_vals = [col for _, col in info.keys()]\n",
    "    attr_vals = attr_vals[:len(attr_vals) // 2]\n",
    "    y1 = info.values[:len(attr_vals)]\n",
    "    y2 = info.values[len(attr_vals):]\n",
    "    total = y1 + y2\n",
    "    y1 = y1 / total\n",
    "    y2 = y2 / total\n",
    "    df1 = pd.DataFrame.from_dict({\n",
    "        'y1': y1,\n",
    "        'y2': y2,\n",
    "        'attr_vals': attr_vals\n",
    "    })\n",
    "    df1.sort_values(by='y1', inplace=True)\n",
    "    contrib = {}\n",
    "    for index, row in df1.iterrows():\n",
    "        contrib[row['attr_vals']] = row['y2']\n",
    "    return contrib\n",
    "\n",
    "\n",
    "contributions = {}\n",
    "for attr in ['workclass', 'marital.status', 'occupation', 'relationship', 'race', 'sex', 'native.country']:\n",
    "    contributions[attr] = attr_contribution(df_train, attr)\n",
    "# add hack for 'Holand-Netherlands'\n",
    "contributions['native.country']['Holand-Netherlands'] = contributions['native.country']['England']\n",
    "\n",
    "def pipeline(df: pd.DataFrame, attr_contributions: dict):\n",
    "    for attr, contrib in attr_contributions.items():\n",
    "        # print(attr, contrib)\n",
    "        for attr_val, attr_contr in contrib.items():\n",
    "            df.loc[df[attr] == attr_val, attr] = attr_contr\n",
    "        df[attr].astype(int)\n",
    "\n",
    "    df.drop(columns=['education'], inplace=True)\n",
    "    return df"
   ],
   "metadata": {
    "collapsed": false
   }
  },
  {
   "cell_type": "code",
   "execution_count": 5,
   "outputs": [],
   "source": [
    "def get_accuracy(model, input: pd.DataFrame, ans: pd.Series):\n",
    "    return 100.*sum(model.predict(X=input) == ans)/len(ans)"
   ],
   "metadata": {
    "collapsed": false
   }
  },
  {
   "cell_type": "code",
   "execution_count": 6,
   "outputs": [],
   "source": [
    "def output_test(model, input: pd.DataFrame, file_name='tp.csv'):\n",
    "    ans = pd.DataFrame.from_dict({\n",
    "        'ID': np.arange(1, len(input) + 1),\n",
    "        'Prediction': model.predict(input),\n",
    "    })\n",
    "    ans.to_csv(file_name, index=False)\n",
    "    return ans"
   ],
   "metadata": {
    "collapsed": false
   }
  },
  {
   "cell_type": "code",
   "execution_count": 7,
   "outputs": [],
   "source": [
    "df = pipeline(df_train.copy(deep=True), contributions)\n",
    "x, y = df.iloc[:, :-1], df.iloc[:, -1]\n",
    "xmax, xmin = x.max(), x.min()\n",
    "x = (x - xmin)/(xmax - xmin)"
   ],
   "metadata": {
    "collapsed": false
   }
  },
  {
   "cell_type": "code",
   "execution_count": 8,
   "outputs": [
    {
     "data": {
      "text/plain": "84.476"
     },
     "execution_count": 8,
     "metadata": {},
     "output_type": "execute_result"
    }
   ],
   "source": [
    "logistic_regression = LogisticRegression()\n",
    "logistic_regression.fit(X=x, y=y)\n",
    "get_accuracy(logistic_regression, x, y)"
   ],
   "metadata": {
    "collapsed": false
   }
  },
  {
   "cell_type": "code",
   "execution_count": 9,
   "outputs": [
    {
     "data": {
      "text/plain": "84.736"
     },
     "execution_count": 9,
     "metadata": {},
     "output_type": "execute_result"
    }
   ],
   "source": [
    "svc_model = LinearSVC()\n",
    "svc_model.fit(X=x, y=y)\n",
    "get_accuracy(svc_model, x, y)"
   ],
   "metadata": {
    "collapsed": false
   }
  },
  {
   "cell_type": "code",
   "execution_count": 19,
   "outputs": [],
   "source": [
    "df = pipeline(df_test.copy(deep=True), contributions)\n",
    "df = df.iloc[:, 1:]\n",
    "df = (df-xmin)/(xmax-xmin)\n",
    "# df = (df - df.min())/(df.max() - df.min())\n",
    "ans1 = output_test(logistic_regression, df, 'lr.csv')\n",
    "ans2 = output_test(svc_model, df, 'svc.csv')"
   ],
   "metadata": {
    "collapsed": false
   }
  },
  {
   "cell_type": "code",
   "execution_count": 20,
   "outputs": [],
   "source": [
    "submitted = pd.read_csv('./LinearSVC.csv')"
   ],
   "metadata": {
    "collapsed": false
   }
  },
  {
   "cell_type": "code",
   "execution_count": 21,
   "outputs": [
    {
     "data": {
      "text/plain": "0.9773928361714621"
     },
     "execution_count": 21,
     "metadata": {},
     "output_type": "execute_result"
    }
   ],
   "source": [
    "sum(ans1['Prediction'] == submitted['Prediction'])/len(ans1)"
   ],
   "metadata": {
    "collapsed": false
   }
  },
  {
   "cell_type": "code",
   "execution_count": 22,
   "outputs": [
    {
     "data": {
      "text/plain": "0.9885076755305763"
     },
     "execution_count": 22,
     "metadata": {},
     "output_type": "execute_result"
    }
   ],
   "source": [
    "sum(ans2['Prediction'] == submitted['Prediction'])/len(ans2)"
   ],
   "metadata": {
    "collapsed": false
   }
  },
  {
   "cell_type": "code",
   "execution_count": 13,
   "outputs": [],
   "source": [],
   "metadata": {
    "collapsed": false
   }
  }
 ],
 "metadata": {
  "kernelspec": {
   "display_name": "Python 3",
   "language": "python",
   "name": "python3"
  },
  "language_info": {
   "codemirror_mode": {
    "name": "ipython",
    "version": 2
   },
   "file_extension": ".py",
   "mimetype": "text/x-python",
   "name": "python",
   "nbconvert_exporter": "python",
   "pygments_lexer": "ipython2",
   "version": "2.7.6"
  }
 },
 "nbformat": 4,
 "nbformat_minor": 0
}
