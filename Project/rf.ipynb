{
 "cells": [
  {
   "cell_type": "code",
   "execution_count": 1,
   "metadata": {
    "collapsed": true
   },
   "outputs": [],
   "source": [
    "import numpy as np\n",
    "import pandas as pd\n",
    "import matplotlib.pyplot as plt\n",
    "from sklearn.ensemble import RandomForestClassifier\n",
    "import pickle"
   ]
  },
  {
   "cell_type": "code",
   "execution_count": 2,
   "outputs": [
    {
     "data": {
      "text/plain": "       age         workclass  fnlwgt  education.num      marital.status  \\\n0       53  Self-emp-not-inc   93449             15  Married-civ-spouse   \n1       33  Self-emp-not-inc  123424             13  Married-civ-spouse   \n2       47           Private  144844              9  Married-civ-spouse   \n3       40           Private  114580              9            Divorced   \n4       39           Private  115618              9  Married-civ-spouse   \n...    ...               ...     ...            ...                 ...   \n24995   18           Private   83451              9       Never-married   \n24996   64         Local-gov  202738              9  Married-civ-spouse   \n24997   39           Private  225544             14  Married-civ-spouse   \n24998   53           Private  346871              9            Divorced   \n24999   18           Private  192321             10       Never-married   \n\n             occupation    relationship                race     sex  \\\n0        Prof-specialty         Husband  Asian-Pac-Islander    Male   \n1       Exec-managerial         Husband               White    Male   \n2          Craft-repair         Husband               White    Male   \n3          Craft-repair  Other-relative               White  Female   \n4      Transport-moving         Husband               White    Male   \n...                 ...             ...                 ...     ...   \n24995      Adm-clerical   Not-in-family               White  Female   \n24996      Adm-clerical            Wife               White  Female   \n24997  Transport-moving         Husband               White    Male   \n24998    Prof-specialty   Not-in-family               White    Male   \n24999    Prof-specialty       Own-child               White    Male   \n\n       capital.gain  capital.loss  hours.per.week native.country  income>50K  \n0                 0             0              40          India           1  \n1                 0             0              40  United-States           1  \n2                 0             0              40  United-States           0  \n3                 0             0              40        Vietnam           0  \n4                 0             0              50  United-States           0  \n...             ...           ...             ...            ...         ...  \n24995             0             0              25  United-States           0  \n24996             0             0              35  United-States           0  \n24997             0             0              40         Poland           0  \n24998          4787             0              46  United-States           1  \n24999             0             0              40  United-States           0  \n\n[25000 rows x 14 columns]",
      "text/html": "<div>\n<style scoped>\n    .dataframe tbody tr th:only-of-type {\n        vertical-align: middle;\n    }\n\n    .dataframe tbody tr th {\n        vertical-align: top;\n    }\n\n    .dataframe thead th {\n        text-align: right;\n    }\n</style>\n<table border=\"1\" class=\"dataframe\">\n  <thead>\n    <tr style=\"text-align: right;\">\n      <th></th>\n      <th>age</th>\n      <th>workclass</th>\n      <th>fnlwgt</th>\n      <th>education.num</th>\n      <th>marital.status</th>\n      <th>occupation</th>\n      <th>relationship</th>\n      <th>race</th>\n      <th>sex</th>\n      <th>capital.gain</th>\n      <th>capital.loss</th>\n      <th>hours.per.week</th>\n      <th>native.country</th>\n      <th>income&gt;50K</th>\n    </tr>\n  </thead>\n  <tbody>\n    <tr>\n      <th>0</th>\n      <td>53</td>\n      <td>Self-emp-not-inc</td>\n      <td>93449</td>\n      <td>15</td>\n      <td>Married-civ-spouse</td>\n      <td>Prof-specialty</td>\n      <td>Husband</td>\n      <td>Asian-Pac-Islander</td>\n      <td>Male</td>\n      <td>0</td>\n      <td>0</td>\n      <td>40</td>\n      <td>India</td>\n      <td>1</td>\n    </tr>\n    <tr>\n      <th>1</th>\n      <td>33</td>\n      <td>Self-emp-not-inc</td>\n      <td>123424</td>\n      <td>13</td>\n      <td>Married-civ-spouse</td>\n      <td>Exec-managerial</td>\n      <td>Husband</td>\n      <td>White</td>\n      <td>Male</td>\n      <td>0</td>\n      <td>0</td>\n      <td>40</td>\n      <td>United-States</td>\n      <td>1</td>\n    </tr>\n    <tr>\n      <th>2</th>\n      <td>47</td>\n      <td>Private</td>\n      <td>144844</td>\n      <td>9</td>\n      <td>Married-civ-spouse</td>\n      <td>Craft-repair</td>\n      <td>Husband</td>\n      <td>White</td>\n      <td>Male</td>\n      <td>0</td>\n      <td>0</td>\n      <td>40</td>\n      <td>United-States</td>\n      <td>0</td>\n    </tr>\n    <tr>\n      <th>3</th>\n      <td>40</td>\n      <td>Private</td>\n      <td>114580</td>\n      <td>9</td>\n      <td>Divorced</td>\n      <td>Craft-repair</td>\n      <td>Other-relative</td>\n      <td>White</td>\n      <td>Female</td>\n      <td>0</td>\n      <td>0</td>\n      <td>40</td>\n      <td>Vietnam</td>\n      <td>0</td>\n    </tr>\n    <tr>\n      <th>4</th>\n      <td>39</td>\n      <td>Private</td>\n      <td>115618</td>\n      <td>9</td>\n      <td>Married-civ-spouse</td>\n      <td>Transport-moving</td>\n      <td>Husband</td>\n      <td>White</td>\n      <td>Male</td>\n      <td>0</td>\n      <td>0</td>\n      <td>50</td>\n      <td>United-States</td>\n      <td>0</td>\n    </tr>\n    <tr>\n      <th>...</th>\n      <td>...</td>\n      <td>...</td>\n      <td>...</td>\n      <td>...</td>\n      <td>...</td>\n      <td>...</td>\n      <td>...</td>\n      <td>...</td>\n      <td>...</td>\n      <td>...</td>\n      <td>...</td>\n      <td>...</td>\n      <td>...</td>\n      <td>...</td>\n    </tr>\n    <tr>\n      <th>24995</th>\n      <td>18</td>\n      <td>Private</td>\n      <td>83451</td>\n      <td>9</td>\n      <td>Never-married</td>\n      <td>Adm-clerical</td>\n      <td>Not-in-family</td>\n      <td>White</td>\n      <td>Female</td>\n      <td>0</td>\n      <td>0</td>\n      <td>25</td>\n      <td>United-States</td>\n      <td>0</td>\n    </tr>\n    <tr>\n      <th>24996</th>\n      <td>64</td>\n      <td>Local-gov</td>\n      <td>202738</td>\n      <td>9</td>\n      <td>Married-civ-spouse</td>\n      <td>Adm-clerical</td>\n      <td>Wife</td>\n      <td>White</td>\n      <td>Female</td>\n      <td>0</td>\n      <td>0</td>\n      <td>35</td>\n      <td>United-States</td>\n      <td>0</td>\n    </tr>\n    <tr>\n      <th>24997</th>\n      <td>39</td>\n      <td>Private</td>\n      <td>225544</td>\n      <td>14</td>\n      <td>Married-civ-spouse</td>\n      <td>Transport-moving</td>\n      <td>Husband</td>\n      <td>White</td>\n      <td>Male</td>\n      <td>0</td>\n      <td>0</td>\n      <td>40</td>\n      <td>Poland</td>\n      <td>0</td>\n    </tr>\n    <tr>\n      <th>24998</th>\n      <td>53</td>\n      <td>Private</td>\n      <td>346871</td>\n      <td>9</td>\n      <td>Divorced</td>\n      <td>Prof-specialty</td>\n      <td>Not-in-family</td>\n      <td>White</td>\n      <td>Male</td>\n      <td>4787</td>\n      <td>0</td>\n      <td>46</td>\n      <td>United-States</td>\n      <td>1</td>\n    </tr>\n    <tr>\n      <th>24999</th>\n      <td>18</td>\n      <td>Private</td>\n      <td>192321</td>\n      <td>10</td>\n      <td>Never-married</td>\n      <td>Prof-specialty</td>\n      <td>Own-child</td>\n      <td>White</td>\n      <td>Male</td>\n      <td>0</td>\n      <td>0</td>\n      <td>40</td>\n      <td>United-States</td>\n      <td>0</td>\n    </tr>\n  </tbody>\n</table>\n<p>25000 rows × 14 columns</p>\n</div>"
     },
     "execution_count": 2,
     "metadata": {},
     "output_type": "execute_result"
    }
   ],
   "source": [
    "df_train = pd.read_csv('./data/train_final.csv')\n",
    "df_train.drop(['education'], axis=1, inplace=True)\n",
    "workclass_maxf = df_train['workclass'].value_counts().index[0]\n",
    "occupation_maxf = df_train['occupation'].value_counts().index[0]\n",
    "native_country_maxf = df_train['native.country'].value_counts().index[0]\n",
    "df_train = df_train.replace('?', np.nan)\n",
    "df_train['workclass'].fillna(workclass_maxf, inplace=True)\n",
    "df_train['occupation'].fillna(occupation_maxf, inplace=True)\n",
    "df_train['native.country'].fillna(native_country_maxf, inplace=True)\n",
    "df_train"
   ],
   "metadata": {
    "collapsed": false
   }
  },
  {
   "cell_type": "code",
   "execution_count": 3,
   "outputs": [
    {
     "data": {
      "text/plain": "       age         workclass  fnlwgt  education.num      marital.status  \\\n0       33  Self-emp-not-inc  222162              9  Married-civ-spouse   \n1       68           Private   29240              9             Widowed   \n2       34           Private  103596              9  Married-civ-spouse   \n3       57           Private  103403              3  Married-civ-spouse   \n4       48           Private  152915             10       Never-married   \n...    ...               ...     ...            ...                 ...   \n23837   26           Private   43408             13  Married-civ-spouse   \n23838   27           Private  116372             13       Never-married   \n23839   67      Self-emp-inc  182581             10  Married-civ-spouse   \n23840   46         Local-gov  274689             12            Divorced   \n23841   66       Federal-gov   47358              6  Married-civ-spouse   \n\n              occupation   relationship   race     sex  capital.gain  \\\n0           Craft-repair        Husband  White    Male             0   \n1         Prof-specialty  Not-in-family  White  Female             0   \n2      Handlers-cleaners        Husband  White    Male             0   \n3       Transport-moving        Husband  White    Male             0   \n4           Adm-clerical  Not-in-family  White  Female             0   \n...                  ...            ...    ...     ...           ...   \n23837     Prof-specialty        Husband  White    Male             0   \n23838     Prof-specialty  Not-in-family  White  Female             0   \n23839    Exec-managerial        Husband  White    Male         20051   \n23840    Protective-serv  Not-in-family  White    Male             0   \n23841       Craft-repair        Husband  White    Male          3471   \n\n       capital.loss  hours.per.week native.country  \n0                 0              40  United-States  \n1                 0              12  United-States  \n2                 0              40  United-States  \n3                 0              40  United-States  \n4                 0              40  United-States  \n...             ...             ...            ...  \n23837             0              40  United-States  \n23838             0              40  United-States  \n23839             0              20  United-States  \n23840             0              40  United-States  \n23841             0              40  United-States  \n\n[23842 rows x 13 columns]",
      "text/html": "<div>\n<style scoped>\n    .dataframe tbody tr th:only-of-type {\n        vertical-align: middle;\n    }\n\n    .dataframe tbody tr th {\n        vertical-align: top;\n    }\n\n    .dataframe thead th {\n        text-align: right;\n    }\n</style>\n<table border=\"1\" class=\"dataframe\">\n  <thead>\n    <tr style=\"text-align: right;\">\n      <th></th>\n      <th>age</th>\n      <th>workclass</th>\n      <th>fnlwgt</th>\n      <th>education.num</th>\n      <th>marital.status</th>\n      <th>occupation</th>\n      <th>relationship</th>\n      <th>race</th>\n      <th>sex</th>\n      <th>capital.gain</th>\n      <th>capital.loss</th>\n      <th>hours.per.week</th>\n      <th>native.country</th>\n    </tr>\n  </thead>\n  <tbody>\n    <tr>\n      <th>0</th>\n      <td>33</td>\n      <td>Self-emp-not-inc</td>\n      <td>222162</td>\n      <td>9</td>\n      <td>Married-civ-spouse</td>\n      <td>Craft-repair</td>\n      <td>Husband</td>\n      <td>White</td>\n      <td>Male</td>\n      <td>0</td>\n      <td>0</td>\n      <td>40</td>\n      <td>United-States</td>\n    </tr>\n    <tr>\n      <th>1</th>\n      <td>68</td>\n      <td>Private</td>\n      <td>29240</td>\n      <td>9</td>\n      <td>Widowed</td>\n      <td>Prof-specialty</td>\n      <td>Not-in-family</td>\n      <td>White</td>\n      <td>Female</td>\n      <td>0</td>\n      <td>0</td>\n      <td>12</td>\n      <td>United-States</td>\n    </tr>\n    <tr>\n      <th>2</th>\n      <td>34</td>\n      <td>Private</td>\n      <td>103596</td>\n      <td>9</td>\n      <td>Married-civ-spouse</td>\n      <td>Handlers-cleaners</td>\n      <td>Husband</td>\n      <td>White</td>\n      <td>Male</td>\n      <td>0</td>\n      <td>0</td>\n      <td>40</td>\n      <td>United-States</td>\n    </tr>\n    <tr>\n      <th>3</th>\n      <td>57</td>\n      <td>Private</td>\n      <td>103403</td>\n      <td>3</td>\n      <td>Married-civ-spouse</td>\n      <td>Transport-moving</td>\n      <td>Husband</td>\n      <td>White</td>\n      <td>Male</td>\n      <td>0</td>\n      <td>0</td>\n      <td>40</td>\n      <td>United-States</td>\n    </tr>\n    <tr>\n      <th>4</th>\n      <td>48</td>\n      <td>Private</td>\n      <td>152915</td>\n      <td>10</td>\n      <td>Never-married</td>\n      <td>Adm-clerical</td>\n      <td>Not-in-family</td>\n      <td>White</td>\n      <td>Female</td>\n      <td>0</td>\n      <td>0</td>\n      <td>40</td>\n      <td>United-States</td>\n    </tr>\n    <tr>\n      <th>...</th>\n      <td>...</td>\n      <td>...</td>\n      <td>...</td>\n      <td>...</td>\n      <td>...</td>\n      <td>...</td>\n      <td>...</td>\n      <td>...</td>\n      <td>...</td>\n      <td>...</td>\n      <td>...</td>\n      <td>...</td>\n      <td>...</td>\n    </tr>\n    <tr>\n      <th>23837</th>\n      <td>26</td>\n      <td>Private</td>\n      <td>43408</td>\n      <td>13</td>\n      <td>Married-civ-spouse</td>\n      <td>Prof-specialty</td>\n      <td>Husband</td>\n      <td>White</td>\n      <td>Male</td>\n      <td>0</td>\n      <td>0</td>\n      <td>40</td>\n      <td>United-States</td>\n    </tr>\n    <tr>\n      <th>23838</th>\n      <td>27</td>\n      <td>Private</td>\n      <td>116372</td>\n      <td>13</td>\n      <td>Never-married</td>\n      <td>Prof-specialty</td>\n      <td>Not-in-family</td>\n      <td>White</td>\n      <td>Female</td>\n      <td>0</td>\n      <td>0</td>\n      <td>40</td>\n      <td>United-States</td>\n    </tr>\n    <tr>\n      <th>23839</th>\n      <td>67</td>\n      <td>Self-emp-inc</td>\n      <td>182581</td>\n      <td>10</td>\n      <td>Married-civ-spouse</td>\n      <td>Exec-managerial</td>\n      <td>Husband</td>\n      <td>White</td>\n      <td>Male</td>\n      <td>20051</td>\n      <td>0</td>\n      <td>20</td>\n      <td>United-States</td>\n    </tr>\n    <tr>\n      <th>23840</th>\n      <td>46</td>\n      <td>Local-gov</td>\n      <td>274689</td>\n      <td>12</td>\n      <td>Divorced</td>\n      <td>Protective-serv</td>\n      <td>Not-in-family</td>\n      <td>White</td>\n      <td>Male</td>\n      <td>0</td>\n      <td>0</td>\n      <td>40</td>\n      <td>United-States</td>\n    </tr>\n    <tr>\n      <th>23841</th>\n      <td>66</td>\n      <td>Federal-gov</td>\n      <td>47358</td>\n      <td>6</td>\n      <td>Married-civ-spouse</td>\n      <td>Craft-repair</td>\n      <td>Husband</td>\n      <td>White</td>\n      <td>Male</td>\n      <td>3471</td>\n      <td>0</td>\n      <td>40</td>\n      <td>United-States</td>\n    </tr>\n  </tbody>\n</table>\n<p>23842 rows × 13 columns</p>\n</div>"
     },
     "execution_count": 3,
     "metadata": {},
     "output_type": "execute_result"
    }
   ],
   "source": [
    "df_test = pd.read_csv('./data/test_final.csv')\n",
    "df_test.drop(['ID', 'education'], axis=1, inplace=True)\n",
    "df_test = df_test.replace('?', np.nan)\n",
    "df_test['workclass'].fillna(workclass_maxf, inplace=True)\n",
    "df_test['occupation'].fillna(occupation_maxf, inplace=True)\n",
    "df_test['native.country'].fillna(native_country_maxf, inplace=True)\n",
    "df_test"
   ],
   "metadata": {
    "collapsed": false
   }
  },
  {
   "cell_type": "code",
   "execution_count": 4,
   "outputs": [
    {
     "name": "stderr",
     "output_type": "stream",
     "text": [
      "/tmp/ipykernel_719206/2692513763.py:2: FutureWarning: The frame.append method is deprecated and will be removed from pandas in a future version. Use pandas.concat instead.\n",
      "  x_combn = x_train.append(df_test)\n"
     ]
    }
   ],
   "source": [
    "x_train, y_train = df_train.iloc[:, :-1], df_train.iloc[:, -1]\n",
    "x_combn = x_train.append(df_test)\n",
    "x_combn = pd.get_dummies(x_combn)\n",
    "for col in ['age', 'fnlwgt', 'education.num', 'capital.gain', 'capital.loss', 'hours.per.week']:\n",
    "    x_combn[col] = x_combn[col]/x_combn[col].max()\n",
    "x_train, x_test = x_combn.iloc[:len(y_train),:], x_combn.iloc[len(y_train):,:]"
   ],
   "metadata": {
    "collapsed": false
   }
  },
  {
   "cell_type": "code",
   "execution_count": 25,
   "outputs": [],
   "source": [
    "model = RandomForestClassifier(n_estimators = 256, max_depth=4)\n",
    "model = model.fit(x_train, y_train)"
   ],
   "metadata": {
    "collapsed": false
   }
  },
  {
   "cell_type": "code",
   "execution_count": 26,
   "outputs": [
    {
     "name": "stdout",
     "output_type": "stream",
     "text": [
      "82.252\n"
     ]
    }
   ],
   "source": [
    "print(100*sum(model.predict(x_train) == y_train)/len(y_train))"
   ],
   "metadata": {
    "collapsed": false
   }
  },
  {
   "cell_type": "code",
   "execution_count": 27,
   "outputs": [],
   "source": [
    "ans = pd.DataFrame.from_dict({\n",
    "    'ID': np.arange(1, len(x_test) + 1),\n",
    "    'Prediction': model.predict(x_test),\n",
    "})\n",
    "ans.to_csv('rf.csv', index=False)"
   ],
   "metadata": {
    "collapsed": false
   }
  },
  {
   "cell_type": "code",
   "execution_count": null,
   "outputs": [],
   "source": [],
   "metadata": {
    "collapsed": false
   }
  }
 ],
 "metadata": {
  "kernelspec": {
   "display_name": "Python 3",
   "language": "python",
   "name": "python3"
  },
  "language_info": {
   "codemirror_mode": {
    "name": "ipython",
    "version": 2
   },
   "file_extension": ".py",
   "mimetype": "text/x-python",
   "name": "python",
   "nbconvert_exporter": "python",
   "pygments_lexer": "ipython2",
   "version": "2.7.6"
  }
 },
 "nbformat": 4,
 "nbformat_minor": 0
}
