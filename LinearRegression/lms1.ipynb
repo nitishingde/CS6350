{
 "cells": [
  {
   "cell_type": "code",
   "execution_count": 1,
   "metadata": {
    "collapsed": true
   },
   "outputs": [],
   "source": [
    "import pandas as pd\n",
    "import numpy as np\n",
    "import matplotlib.pyplot as plt\n",
    "from ml.LinearRegression import LinearRegressionClassifier\n",
    "import time"
   ]
  },
  {
   "cell_type": "code",
   "execution_count": 2,
   "outputs": [
    {
     "data": {
      "text/plain": "     Cement      Slag   Fly ash     Water        SP  Coarse Aggr  Fine Aggr  \\\n0 -0.890447 -1.295950  1.188030 -1.450430  1.238500     1.876070  -0.818684   \n1  0.549165  0.066917 -0.517804  0.638098  0.164716     0.227616  -0.945600   \n2  0.941555 -1.292630  1.068030  1.950890 -0.085833    -1.180960  -0.385584   \n3 -0.966886  1.047520  0.376289  1.831540  0.880569    -0.988829  -0.898007   \n4  0.638344  0.233121 -0.364867  0.488917  0.164716    -0.011126  -0.961465   \n\n     Output  \n0 -0.005574  \n1  0.568593  \n2  0.798260  \n3  0.568593  \n4  0.855677  ",
      "text/html": "<div>\n<style scoped>\n    .dataframe tbody tr th:only-of-type {\n        vertical-align: middle;\n    }\n\n    .dataframe tbody tr th {\n        vertical-align: top;\n    }\n\n    .dataframe thead th {\n        text-align: right;\n    }\n</style>\n<table border=\"1\" class=\"dataframe\">\n  <thead>\n    <tr style=\"text-align: right;\">\n      <th></th>\n      <th>Cement</th>\n      <th>Slag</th>\n      <th>Fly ash</th>\n      <th>Water</th>\n      <th>SP</th>\n      <th>Coarse Aggr</th>\n      <th>Fine Aggr</th>\n      <th>Output</th>\n    </tr>\n  </thead>\n  <tbody>\n    <tr>\n      <th>0</th>\n      <td>-0.890447</td>\n      <td>-1.295950</td>\n      <td>1.188030</td>\n      <td>-1.450430</td>\n      <td>1.238500</td>\n      <td>1.876070</td>\n      <td>-0.818684</td>\n      <td>-0.005574</td>\n    </tr>\n    <tr>\n      <th>1</th>\n      <td>0.549165</td>\n      <td>0.066917</td>\n      <td>-0.517804</td>\n      <td>0.638098</td>\n      <td>0.164716</td>\n      <td>0.227616</td>\n      <td>-0.945600</td>\n      <td>0.568593</td>\n    </tr>\n    <tr>\n      <th>2</th>\n      <td>0.941555</td>\n      <td>-1.292630</td>\n      <td>1.068030</td>\n      <td>1.950890</td>\n      <td>-0.085833</td>\n      <td>-1.180960</td>\n      <td>-0.385584</td>\n      <td>0.798260</td>\n    </tr>\n    <tr>\n      <th>3</th>\n      <td>-0.966886</td>\n      <td>1.047520</td>\n      <td>0.376289</td>\n      <td>1.831540</td>\n      <td>0.880569</td>\n      <td>-0.988829</td>\n      <td>-0.898007</td>\n      <td>0.568593</td>\n    </tr>\n    <tr>\n      <th>4</th>\n      <td>0.638344</td>\n      <td>0.233121</td>\n      <td>-0.364867</td>\n      <td>0.488917</td>\n      <td>0.164716</td>\n      <td>-0.011126</td>\n      <td>-0.961465</td>\n      <td>0.855677</td>\n    </tr>\n  </tbody>\n</table>\n</div>"
     },
     "execution_count": 2,
     "metadata": {},
     "output_type": "execute_result"
    }
   ],
   "source": [
    "column_name = ['Cement', 'Slag', 'Fly ash', 'Water', 'SP', 'Coarse Aggr', 'Fine Aggr', 'Output']\n",
    "df = pd.read_csv('./data/concrete/train.csv', names=column_name)\n",
    "df.head()"
   ],
   "metadata": {
    "collapsed": false
   }
  },
  {
   "cell_type": "code",
   "execution_count": 3,
   "outputs": [
    {
     "data": {
      "text/plain": "     Cement      Slag   Fly ash     Water        SP  Coarse Aggr  Fine Aggr  \\\n0  1.581100 -1.295950 -1.753060  1.831540 -0.909064     0.852891  -0.771091   \n1  0.561905  0.183260 -0.400160  0.240283  0.164716    -1.420840   1.386480   \n2 -1.145250  0.831454  0.176294 -0.704529  1.238500    -0.147550   0.561526   \n3 -1.056070  0.183260 -0.400160  0.240283  0.164716    -0.272605   1.418210   \n4  1.147940 -1.295950  0.164530 -0.455895  0.164716    -0.204393   0.577390   \n\n     Output  \n0 -0.120408  \n1  0.970510  \n2  0.654718  \n3  0.568593  \n4  0.626010  ",
      "text/html": "<div>\n<style scoped>\n    .dataframe tbody tr th:only-of-type {\n        vertical-align: middle;\n    }\n\n    .dataframe tbody tr th {\n        vertical-align: top;\n    }\n\n    .dataframe thead th {\n        text-align: right;\n    }\n</style>\n<table border=\"1\" class=\"dataframe\">\n  <thead>\n    <tr style=\"text-align: right;\">\n      <th></th>\n      <th>Cement</th>\n      <th>Slag</th>\n      <th>Fly ash</th>\n      <th>Water</th>\n      <th>SP</th>\n      <th>Coarse Aggr</th>\n      <th>Fine Aggr</th>\n      <th>Output</th>\n    </tr>\n  </thead>\n  <tbody>\n    <tr>\n      <th>0</th>\n      <td>1.581100</td>\n      <td>-1.295950</td>\n      <td>-1.753060</td>\n      <td>1.831540</td>\n      <td>-0.909064</td>\n      <td>0.852891</td>\n      <td>-0.771091</td>\n      <td>-0.120408</td>\n    </tr>\n    <tr>\n      <th>1</th>\n      <td>0.561905</td>\n      <td>0.183260</td>\n      <td>-0.400160</td>\n      <td>0.240283</td>\n      <td>0.164716</td>\n      <td>-1.420840</td>\n      <td>1.386480</td>\n      <td>0.970510</td>\n    </tr>\n    <tr>\n      <th>2</th>\n      <td>-1.145250</td>\n      <td>0.831454</td>\n      <td>0.176294</td>\n      <td>-0.704529</td>\n      <td>1.238500</td>\n      <td>-0.147550</td>\n      <td>0.561526</td>\n      <td>0.654718</td>\n    </tr>\n    <tr>\n      <th>3</th>\n      <td>-1.056070</td>\n      <td>0.183260</td>\n      <td>-0.400160</td>\n      <td>0.240283</td>\n      <td>0.164716</td>\n      <td>-0.272605</td>\n      <td>1.418210</td>\n      <td>0.568593</td>\n    </tr>\n    <tr>\n      <th>4</th>\n      <td>1.147940</td>\n      <td>-1.295950</td>\n      <td>0.164530</td>\n      <td>-0.455895</td>\n      <td>0.164716</td>\n      <td>-0.204393</td>\n      <td>0.577390</td>\n      <td>0.626010</td>\n    </tr>\n  </tbody>\n</table>\n</div>"
     },
     "execution_count": 3,
     "metadata": {},
     "output_type": "execute_result"
    }
   ],
   "source": [
    "df_test = pd.read_csv('./data/concrete/test.csv', names=column_name)\n",
    "df_test.head()"
   ],
   "metadata": {
    "collapsed": false
   }
  },
  {
   "cell_type": "code",
   "execution_count": 4,
   "outputs": [
    {
     "name": "stdout",
     "output_type": "stream",
     "text": [
      "Time to execute: 57.80997562408447s\n"
     ]
    }
   ],
   "source": [
    "model = LinearRegressionClassifier()\n",
    "start = time.time()\n",
    "model.fit(df, heuristic='bgd', bias_weight=np.zeros(df.columns.size-1), learning_rate=0.015, error_tolerance=1e-6)\n",
    "print(f'\\rTime to execute: {time.time() - start}s')"
   ],
   "metadata": {
    "collapsed": false
   }
  },
  {
   "cell_type": "code",
   "execution_count": 5,
   "outputs": [
    {
     "name": "stdout",
     "output_type": "stream",
     "text": [
      "Weight vector:  [0.9213295  0.80806769 0.87372925 1.31411161 0.13388714 1.59875137\n",
      " 1.02006749]\n"
     ]
    }
   ],
   "source": [
    "print('Weight vector: ', model._bias_weight)"
   ],
   "metadata": {
    "collapsed": false
   }
  },
  {
   "cell_type": "code",
   "execution_count": 6,
   "outputs": [],
   "source": [
    "y = model._info['cost']"
   ],
   "metadata": {
    "collapsed": false
   }
  },
  {
   "cell_type": "code",
   "execution_count": 7,
   "outputs": [
    {
     "data": {
      "text/plain": "<Figure size 640x480 with 1 Axes>",
      "image/png": "[encoded data removed]"
     },
     "metadata": {},
     "output_type": "display_data"
    }
   ],
   "source": [
    "plt.plot([i for i in range(len(y))], y)\n",
    "plt.xlabel('Iterations', fontweight ='bold')\n",
    "plt.ylabel('Cost', fontweight ='bold')\n",
    "plt.title('Batch Gradient Descent')\n",
    "plt.savefig('hw2.4.a.png', transparent=False)\n",
    "plt.show()"
   ],
   "metadata": {
    "collapsed": false
   }
  },
  {
   "cell_type": "code",
   "execution_count": 8,
   "outputs": [
    {
     "name": "stdout",
     "output_type": "stream",
     "text": [
      "Cost for training data: 14.987817986249805\n"
     ]
    }
   ],
   "source": [
    "print('Cost for training data:', model._cost(df))"
   ],
   "metadata": {
    "collapsed": false
   }
  },
  {
   "cell_type": "code",
   "execution_count": 9,
   "outputs": [
    {
     "name": "stdout",
     "output_type": "stream",
     "text": [
      "Cost for test data: 23.361005665475126\n"
     ]
    }
   ],
   "source": [
    "print('Cost for test data:', model._cost(df_test))"
   ],
   "metadata": {
    "collapsed": false
   }
  },
  {
   "cell_type": "code",
   "execution_count": 9,
   "outputs": [],
   "source": [],
   "metadata": {
    "collapsed": false
   }
  }
 ],
 "metadata": {
  "kernelspec": {
   "display_name": "Python 3",
   "language": "python",
   "name": "python3"
  },
  "language_info": {
   "codemirror_mode": {
    "name": "ipython",
    "version": 2
   },
   "file_extension": ".py",
   "mimetype": "text/x-python",
   "name": "python",
   "nbconvert_exporter": "python",
   "pygments_lexer": "ipython2",
   "version": "2.7.6"
  }
 },
 "nbformat": 4,
 "nbformat_minor": 0
}
